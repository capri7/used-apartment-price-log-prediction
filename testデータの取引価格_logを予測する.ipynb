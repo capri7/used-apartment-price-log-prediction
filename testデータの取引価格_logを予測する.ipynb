{
 "cells": [
  {
   "cell_type": "code",
   "execution_count": 1,
   "id": "22b6f24a-28bb-4798-9bf8-cdf70c4fcc7a",
   "metadata": {},
   "outputs": [
    {
     "name": "stdout",
     "output_type": "stream",
     "text": [
      "\n",
      "データの行数: 66\n",
      "データの列数: 8\n",
      "    面積/築年数比     価格増加率    価格/面積比     面積（㎡）  エリア人気度スコア    面積×築年数        ID  \\\n",
      "0 -0.979852 -0.026594 -8.434468 -1.721483 -84.860927 -0.042909  33001344   \n",
      "1  7.054872 -0.026594 -8.434468  0.558901 -84.860927 -2.377518  33000471   \n",
      "2 -0.186402 -0.026594 -8.434468 -0.011195 -84.860927 -0.125114  33000579   \n",
      "3 -0.137441 -0.026594 -8.434468  1.128997 -84.860927  0.696931  33000984   \n",
      "4 -0.999593 -0.026594 -8.434468 -0.011195 -84.860927  1.946440  33001008   \n",
      "\n",
      "   取引価格（総額）_log_pred  \n",
      "0           6.502118  \n",
      "1           7.394001  \n",
      "2           6.794347  \n",
      "3           6.948196  \n",
      "4           6.544535  \n",
      "予測結果を保存しました: /Users/hayakawakazue/Downloads/data/test/test_cleaned6/test_33_predicted.csv\n"
     ]
    }
   ],
   "source": [
    "import pandas as pd\n",
    "import joblib\n",
    "\n",
    "# 数値データのみのテストデータを読み込む\n",
    "test_data_path = '/Users/hayakawakazue/Downloads/data/test/test_cleaned5/test_33_cleaned_preprocessed.csv'\n",
    "test_data = pd.read_csv(test_data_path)\n",
    "\n",
    "# モデルの読み込み\n",
    "model_path = '/Users/hayakawakazue/Downloads/data/models/21_24_25_29_30_33_random_forest.joblib'\n",
    "model = joblib.load(model_path)\n",
    "\n",
    "# 重要な特徴量のリスト\n",
    "important_features = ['面積/築年数比', '価格増加率', '価格/面積比', '面積（㎡）', 'エリア人気度スコア', '面積×築年数']\n",
    "\n",
    "# テストデータから重要な特徴量を選択\n",
    "X_test = test_data[important_features]\n",
    "\n",
    "# 取引価格のログを予測\n",
    "y_pred_log = model.predict(X_test)\n",
    "\n",
    "# 予測結果をデータフレームに追加\n",
    "test_data['取引価格（総額）_log_pred'] = y_pred_log\n",
    "\n",
    "# 予測結果を保存\n",
    "predicted_test_path = '/Users/hayakawakazue/Downloads/data/test/test_cleaned6/test_33_predicted.csv'\n",
    "test_data.to_csv(predicted_test_path, index=False)\n",
    "\n",
    "# データの行数と列数をプリントする\n",
    "print(f\"\\nデータの行数: {test_data.shape[0]}\")\n",
    "print(f\"データの列数: {test_data.shape[1]}\")\n",
    "\n",
    "print(test_data.head())\n",
    "print(f\"予測結果を保存しました: {predicted_test_path}\")\n"
   ]
  },
  {
   "cell_type": "markdown",
   "id": "39b8ec5f-28b2-45de-9330-dba1157c18c5",
   "metadata": {},
   "source": [
    "各都道府県ごとに予測結果を保存する"
   ]
  },
  {
   "cell_type": "code",
   "execution_count": 2,
   "id": "562a62f5-d2f7-40fa-a6e6-f9b7a13adaba",
   "metadata": {},
   "outputs": [
    {
     "name": "stdout",
     "output_type": "stream",
     "text": [
      "        ID  取引価格（総額）_log\n",
      "0  1000000           NaN\n",
      "1  1000056           NaN\n",
      "2  1000108           NaN\n",
      "3  1000109           NaN\n",
      "4  1000110           NaN\n",
      "予測結果を保存しました: /Users/hayakawakazue/Downloads/data/submission/submission_33.csv\n"
     ]
    }
   ],
   "source": [
    "import pandas as pd\n",
    "\n",
    "# データの読み込み\n",
    "sample_submission_path = '/Users/hayakawakazue/Downloads/data/submission/sample_submission.csv'\n",
    "sample_submission = pd.read_csv(sample_submission_path)\n",
    "\n",
    "# 予測結果のデータ\n",
    "predicted_data_path = '/Users/hayakawakazue/Downloads/data/test/test_cleaned6/test_33_predicted.csv'\n",
    "predicted_data = pd.read_csv(predicted_data_path)\n",
    "\n",
    "# IDを軸にしてマージ\n",
    "submission = pd.merge(sample_submission, predicted_data[['ID', '取引価格（総額）_log_pred']], on='ID', how='left')\n",
    "\n",
    "# 必要な列のみを保持\n",
    "submission = submission[['ID', '取引価格（総額）_log_pred']]\n",
    "submission.columns = ['ID', '取引価格（総額）_log']\n",
    "\n",
    "# ファイルの保存\n",
    "submission_path = '/Users/hayakawakazue/Downloads/data/submission/submission_33.csv'\n",
    "submission.to_csv(submission_path, index=False)\n",
    "\n",
    "# 結果の確認\n",
    "print(submission.head())\n",
    "print(f\"予測結果を保存しました: {submission_path}\")\n"
   ]
  },
  {
   "cell_type": "code",
   "execution_count": null,
   "id": "0013f930-5ae2-43ba-b35f-2d01f0d9165b",
   "metadata": {},
   "outputs": [],
   "source": []
  }
 ],
 "metadata": {
  "kernelspec": {
   "display_name": "Python 3 (ipykernel)",
   "language": "python",
   "name": "python3"
  },
  "language_info": {
   "codemirror_mode": {
    "name": "ipython",
    "version": 3
   },
   "file_extension": ".py",
   "mimetype": "text/x-python",
   "name": "python",
   "nbconvert_exporter": "python",
   "pygments_lexer": "ipython3",
   "version": "3.11.7"
  }
 },
 "nbformat": 4,
 "nbformat_minor": 5
}
