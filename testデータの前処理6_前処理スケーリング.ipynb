{
 "cells": [
  {
   "cell_type": "markdown",
   "id": "d1ed6215-2bc3-4980-81b3-5e6304d2f239",
   "metadata": {},
   "source": [
    "スケーリングする"
   ]
  },
  {
   "cell_type": "code",
   "execution_count": 1,
   "id": "d6464b2e-cbb1-4fd7-98c3-4d43f745277c",
   "metadata": {},
   "outputs": [
    {
     "name": "stdout",
     "output_type": "stream",
     "text": [
      "      価格増加率       建築年  エリア人気度スコア    価格/面積比     面積（㎡）   面積/築年数比   市区町村コード  \\\n",
      "0 -0.014136 -0.487670 -47.639632 -1.526759  0.746786 -0.348720 -1.811724   \n",
      "1 -0.014136  1.963661 -47.639632 -1.526759 -0.156522  0.621648 -1.811724   \n",
      "2 -0.014136 -0.487670 -47.639632 -1.526759 -1.963136 -0.514477 -1.811724   \n",
      "3 -0.014136 -0.306090 -47.639632 -1.526759 -0.608175 -0.423025 -1.811724   \n",
      "4 -0.014136 -1.213990 -47.639632 -1.526759 -1.737309 -0.511998 -1.811724   \n",
      "\n",
      "        ID  \n",
      "0  1000000  \n",
      "1  1000056  \n",
      "2  1000108  \n",
      "3  1000109  \n",
      "4  1000110  \n",
      "予測の準備が出来たデータセットを保存しました: /Users/hayakawakazue/Downloads/data/test5/test_data_cleaned_preprocessed.csv\n"
     ]
    }
   ],
   "source": [
    "import pandas as pd\n",
    "import joblib\n",
    "from sklearn.preprocessing import StandardScaler\n",
    "\n",
    "# 数値データのみのテストデータを読み込む\n",
    "test_data_path = '/Users/hayakawakazue/Downloads/data/test4/test_cleaned_with_encoding.csv'\n",
    "test_data = pd.read_csv(test_data_path)\n",
    "\n",
    "# 重要な特徴量のリスト\n",
    "important_features = ['価格増加率', '建築年', 'エリア人気度スコア', '価格/面積比', '面積（㎡）', '面積/築年数比', '市区町村コード']\n",
    "\n",
    "# テストデータから重要な特徴量を選択\n",
    "X_test = test_data[important_features]\n",
    "\n",
    "# スケーラーを読み込む\n",
    "scaler_path = '/Users/hayakawakazue/Downloads/data/models/combined_all_train_scaler.joblib'\n",
    "scaler = joblib.load(scaler_path)\n",
    "\n",
    "# スケーリングの適用\n",
    "X_test_scaled = scaler.transform(X_test)\n",
    "\n",
    "# 前処理後のデータフレームに変換\n",
    "X_test_scaled_df = pd.DataFrame(X_test_scaled, columns=important_features)\n",
    "\n",
    "# ID列を保持するために結合\n",
    "X_test_scaled_df['ID'] = test_data['ID'].values\n",
    "\n",
    "# 前処理済みのデータを保存\n",
    "preprocessed_test_path = '/Users/hayakawakazue/Downloads/data/test5/test_data_cleaned_preprocessed.csv'\n",
    "X_test_scaled_df.to_csv(preprocessed_test_path, index=False)\n",
    "\n",
    "print(X_test_scaled_df.head())\n",
    "\n",
    "print(f\"予測の準備が出来たデータセットを保存しました: {preprocessed_test_path}\")"
   ]
  },
  {
   "cell_type": "code",
   "execution_count": null,
   "id": "a752834e-5a7e-4773-a7e1-72955c8043cf",
   "metadata": {},
   "outputs": [],
   "source": []
  }
 ],
 "metadata": {
  "kernelspec": {
   "display_name": "Python 3 (ipykernel)",
   "language": "python",
   "name": "python3"
  },
  "language_info": {
   "codemirror_mode": {
    "name": "ipython",
    "version": 3
   },
   "file_extension": ".py",
   "mimetype": "text/x-python",
   "name": "python",
   "nbconvert_exporter": "python",
   "pygments_lexer": "ipython3",
   "version": "3.11.7"
  }
 },
 "nbformat": 4,
 "nbformat_minor": 5
}
