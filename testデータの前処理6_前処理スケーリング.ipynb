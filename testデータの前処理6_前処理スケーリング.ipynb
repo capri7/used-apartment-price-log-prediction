{
 "cells": [
  {
   "cell_type": "markdown",
   "id": "d1ed6215-2bc3-4980-81b3-5e6304d2f239",
   "metadata": {},
   "source": [
    "スケーリングする"
   ]
  },
  {
   "cell_type": "code",
   "execution_count": 1,
   "id": "d6464b2e-cbb1-4fd7-98c3-4d43f745277c",
   "metadata": {},
   "outputs": [
    {
     "name": "stdout",
     "output_type": "stream",
     "text": [
      "    面積/築年数比     価格増加率    価格/面積比     面積（㎡）  エリア人気度スコア    面積×築年数        ID\n",
      "0 -0.979852 -0.026594 -8.434468 -1.721483 -84.860927 -0.042909  33001344\n",
      "1  7.054872 -0.026594 -8.434468  0.558901 -84.860927 -2.377518  33000471\n",
      "2 -0.186402 -0.026594 -8.434468 -0.011195 -84.860927 -0.125114  33000579\n",
      "3 -0.137441 -0.026594 -8.434468  1.128997 -84.860927  0.696931  33000984\n",
      "4 -0.999593 -0.026594 -8.434468 -0.011195 -84.860927  1.946440  33001008\n"
     ]
    }
   ],
   "source": [
    "import pandas as pd\n",
    "import joblib\n",
    "from sklearn.preprocessing import StandardScaler\n",
    "\n",
    "# 数値データのみのテストデータを読み込む\n",
    "test_data_path = '/Users/hayakawakazue/Downloads/data/test/test_cleaned4/test_33_cleaned_numeric.csv'\n",
    "test_data = pd.read_csv(test_data_path)\n",
    "\n",
    "# 重要な特徴量のリスト\n",
    "important_features = ['面積/築年数比', '価格増加率', '価格/面積比', '面積（㎡）', 'エリア人気度スコア', '面積×築年数']\n",
    "\n",
    "# テストデータから重要な特徴量を選択\n",
    "X_test = test_data[important_features]\n",
    "\n",
    "# スケーラーを読み込む\n",
    "scaler_path = '/Users/hayakawakazue/Downloads/data/models/21_24_25_29_30_33_scaler.joblib'\n",
    "scaler = joblib.load(scaler_path)\n",
    "\n",
    "# スケーリングの適用\n",
    "X_test_scaled = scaler.transform(X_test)\n",
    "\n",
    "# 前処理後のデータフレームに変換\n",
    "X_test_scaled_df = pd.DataFrame(X_test_scaled, columns=important_features)\n",
    "\n",
    "# ID列を保持するために結合\n",
    "X_test_scaled_df['ID'] = test_data['ID'].values\n",
    "\n",
    "# 前処理済みのデータを保存\n",
    "preprocessed_test_path = '/Users/hayakawakazue/Downloads/data/test/test_cleaned5/test_33_cleaned_preprocessed.csv'\n",
    "X_test_scaled_df.to_csv(preprocessed_test_path, index=False)\n",
    "\n",
    "print(X_test_scaled_df.head())"
   ]
  },
  {
   "cell_type": "code",
   "execution_count": null,
   "id": "a752834e-5a7e-4773-a7e1-72955c8043cf",
   "metadata": {},
   "outputs": [],
   "source": []
  }
 ],
 "metadata": {
  "kernelspec": {
   "display_name": "Python 3 (ipykernel)",
   "language": "python",
   "name": "python3"
  },
  "language_info": {
   "codemirror_mode": {
    "name": "ipython",
    "version": 3
   },
   "file_extension": ".py",
   "mimetype": "text/x-python",
   "name": "python",
   "nbconvert_exporter": "python",
   "pygments_lexer": "ipython3",
   "version": "3.11.7"
  }
 },
 "nbformat": 4,
 "nbformat_minor": 5
}
