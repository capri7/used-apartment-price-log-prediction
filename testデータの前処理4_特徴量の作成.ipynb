{
 "cells": [
  {
   "cell_type": "code",
   "execution_count": 1,
   "id": "7bcefee3-d094-4cd8-a202-d6fd027b4170",
   "metadata": {},
   "outputs": [
    {
     "name": "stdout",
     "output_type": "stream",
     "text": [
      "        ID  市区町村コード  最寄駅：距離（分）   間取り  面積（㎡）     建築年 建物の構造  建ぺい率（％）  容積率（％）  \\\n",
      "0  1000000     1101       26.0  ３ＬＤＫ   75.0  1989.0    ＲＣ     40.0    60.0   \n",
      "1  1000056     1101        1.0  ２ＬＤＫ   55.0  2016.0    ＲＣ     80.0   600.0   \n",
      "2  1000108     1101        2.0    １Ｒ   15.0  1989.0   ＳＲＣ     80.0   400.0   \n",
      "3  1000109     1101        2.0  １ＬＤＫ   45.0  1991.0   ＳＲＣ     80.0   400.0   \n",
      "4  1000110     1101        3.0    １Ｒ   20.0  1981.0    ＲＣ     80.0   400.0   \n",
      "\n",
      "     取引時点  \n",
      "0  202006  \n",
      "1  202003  \n",
      "2  202006  \n",
      "3  202006  \n",
      "4  202006  \n"
     ]
    }
   ],
   "source": [
    "import pandas as pd\n",
    "import seaborn as sns\n",
    "import matplotlib.pyplot as plt\n",
    "\n",
    "# データの読み込み\n",
    "data_path = '/Users/hayakawakazue/Downloads/data/test3/test_最寄駅_面積（㎡）_容積率（％）.csv'\n",
    "data_cleaned = pd.read_csv(data_path)\n",
    "\n",
    "print(data_cleaned.head())"
   ]
  },
  {
   "cell_type": "markdown",
   "id": "3919b804-52c7-412d-8f44-b0c3c1b6544b",
   "metadata": {},
   "source": [
    "1. 新しい特徴量エンジニアリングを作成する"
   ]
  },
  {
   "cell_type": "code",
   "execution_count": 3,
   "id": "d9feb76a-d20f-4f0d-87e5-576a44f412f4",
   "metadata": {
    "scrolled": true
   },
   "outputs": [
    {
     "name": "stdout",
     "output_type": "stream",
     "text": [
      "        ID  市区町村コード  最寄駅：距離（分）   間取り  面積（㎡）     建築年 建物の構造  建ぺい率（％）  容積率（％）  \\\n",
      "0  1000000     1101       26.0  ３ＬＤＫ   75.0  1989.0    ＲＣ     40.0    60.0   \n",
      "1  1000056     1101        1.0  ２ＬＤＫ   55.0  2016.0    ＲＣ     80.0   600.0   \n",
      "2  1000108     1101        2.0    １Ｒ   15.0  1989.0   ＳＲＣ     80.0   400.0   \n",
      "3  1000109     1101        2.0  １ＬＤＫ   45.0  1991.0   ＳＲＣ     80.0   400.0   \n",
      "4  1000110     1101        3.0    １Ｒ   20.0  1981.0    ＲＣ     80.0   400.0   \n",
      "\n",
      "     取引時点  ...   築年数  取引月    面積/築年数比  エリア人気度スコア  年別価格トレンド  価格増加率   駅距離_面積比  \\\n",
      "0  202006  ...  31.0    6   2.419355        0.0       0.0    0.0  0.346667   \n",
      "1  202003  ...   4.0    3  13.750000        0.0       0.0    0.0  0.018182   \n",
      "2  202006  ...  31.0    6   0.483871        0.0       0.0    0.0  0.133333   \n",
      "3  202006  ...  29.0    6   1.551724        0.0       0.0    0.0  0.044444   \n",
      "4  202006  ...  39.0    6   0.512821        0.0       0.0    0.0  0.150000   \n",
      "\n",
      "   容積率_建ぺい率比   面積×容積率  建築年×建ぺい率  \n",
      "0        1.5   4500.0   79560.0  \n",
      "1        7.5  33000.0  161280.0  \n",
      "2        5.0   6000.0  159120.0  \n",
      "3        5.0  18000.0  159280.0  \n",
      "4        5.0   8000.0  158480.0  \n",
      "\n",
      "[5 rows x 23 columns]\n",
      "データを保存しました: /Users/hayakawakazue/Downloads/data/test4/test_cleaned_feature_engineered.csv\n",
      "\n",
      "データの行数: 19466\n",
      "データの列数: 23\n"
     ]
    }
   ],
   "source": [
    "import pandas as pd\n",
    "import numpy as np\n",
    "\n",
    "# データの読み込み\n",
    "data_path = '/Users/hayakawakazue/Downloads/data/test3/test_最寄駅_面積（㎡）_容積率（％）.csv'\n",
    "test_data_cleaned = pd.read_csv(data_path)\n",
    "\n",
    "# ダミーの取引価格（総額）_log列を追加\n",
    "test_data_cleaned['取引価格（総額）_log'] = 0  # ダミー値として0を使用\n",
    "\n",
    "# 価格/面積比を計算\n",
    "test_data_cleaned['価格/面積比'] = test_data_cleaned['取引価格（総額）_log'] / test_data_cleaned['面積（㎡）']\n",
    "\n",
    "# 取引時点から年を抽出\n",
    "test_data_cleaned['取引年'] = test_data_cleaned['取引時点'].astype(str).str[:4].astype(int)\n",
    "\n",
    "# 築年数を計算（取引年 - 建築年）\n",
    "test_data_cleaned['築年数'] = test_data_cleaned['取引年'] - test_data_cleaned['建築年']\n",
    "\n",
    "# 取引月を抽出\n",
    "test_data_cleaned['取引月'] = test_data_cleaned['取引時点'].apply(lambda x: int(str(x)[4:6]))\n",
    "\n",
    "# 面積/築年数比を計算\n",
    "test_data_cleaned['面積/築年数比'] = test_data_cleaned['面積（㎡）'] / test_data_cleaned['築年数']\n",
    "\n",
    "# エリア人気度スコアの計算\n",
    "area_popularity = test_data_cleaned.groupby('市区町村コード')['取引価格（総額）_log'].mean().reset_index()\n",
    "area_popularity.columns = ['市区町村コード', 'エリア人気度スコア']\n",
    "test_data_cleaned = test_data_cleaned.merge(area_popularity, on='市区町村コード', how='left')\n",
    "\n",
    "# 年別価格トレンドの計算\n",
    "yearly_trend = test_data_cleaned.groupby('取引年')['取引価格（総額）_log'].mean().reset_index()\n",
    "yearly_trend.columns = ['取引年', '年別価格トレンド']\n",
    "test_data_cleaned = test_data_cleaned.merge(yearly_trend, on='取引年', how='left')\n",
    "\n",
    "# 価格増加率の計算\n",
    "test_data_cleaned['価格増加率'] = test_data_cleaned['取引価格（総額）_log'].pct_change().fillna(0)\n",
    "\n",
    "# 駅距離/面積の計算\n",
    "test_data_cleaned['駅距離_面積比'] = test_data_cleaned['最寄駅：距離（分）'] / test_data_cleaned['面積（㎡）']\n",
    "\n",
    "# 容積率と建ぺい率の比率\n",
    "test_data_cleaned['容積率_建ぺい率比'] = test_data_cleaned['容積率（％）'] / test_data_cleaned['建ぺい率（％）']\n",
    "\n",
    "# 面積と容積率の交互作用\n",
    "test_data_cleaned['面積×容積率'] = test_data_cleaned['面積（㎡）'] * test_data_cleaned['容積率（％）']\n",
    "\n",
    "# 建築年と建ぺい率の交互作用\n",
    "test_data_cleaned['建築年×建ぺい率'] = test_data_cleaned['建築年'] * test_data_cleaned['建ぺい率（％）']\n",
    "\n",
    "# 新しい特徴量を含むデータの確認\n",
    "print(test_data_cleaned.head())\n",
    "\n",
    "# データを保存\n",
    "test_data_cleaned_path = '/Users/hayakawakazue/Downloads/data/test4/test_cleaned_feature_engineered.csv'\n",
    "test_data_cleaned.to_csv(test_data_cleaned_path, index=False)\n",
    "\n",
    "print(f\"データを保存しました: {test_data_cleaned_path}\")\n",
    "\n",
    "# データの行数と列数をプリントする\n",
    "print(f\"\\nデータの行数: {test_data_cleaned.shape[0]}\")\n",
    "print(f\"データの列数: {test_data_cleaned.shape[1]}\")\n"
   ]
  },
  {
   "cell_type": "code",
   "execution_count": null,
   "id": "660f2d0c-44a8-439d-9ae2-18949d1be4fd",
   "metadata": {},
   "outputs": [],
   "source": []
  }
 ],
 "metadata": {
  "kernelspec": {
   "display_name": "Python 3 (ipykernel)",
   "language": "python",
   "name": "python3"
  },
  "language_info": {
   "codemirror_mode": {
    "name": "ipython",
    "version": 3
   },
   "file_extension": ".py",
   "mimetype": "text/x-python",
   "name": "python",
   "nbconvert_exporter": "python",
   "pygments_lexer": "ipython3",
   "version": "3.11.7"
  }
 },
 "nbformat": 4,
 "nbformat_minor": 5
}
