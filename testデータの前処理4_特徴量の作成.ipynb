{
 "cells": [
  {
   "cell_type": "code",
   "execution_count": 1,
   "id": "7bcefee3-d094-4cd8-a202-d6fd027b4170",
   "metadata": {},
   "outputs": [
    {
     "name": "stdout",
     "output_type": "stream",
     "text": [
      "         ID  市区町村コード  最寄駅：距離（分）   間取り  面積（㎡）     建築年 建物の構造    取引時点\n",
      "0  33000189    33101       14.0  ２ＬＤＫ   65.0  2007.0    ＲＣ  202006\n",
      "1  33000471    33101        1.0  ３ＬＤＫ   75.0  2018.0    ＲＣ  202003\n",
      "2  33000579    33101       23.0   １ＤＫ   70.0  1998.0   ＳＲＣ  202003\n",
      "3  33000984    33101       13.0  ３ＬＤＫ   80.0  1995.0    ＲＣ  202003\n",
      "4  33001008    33101       18.0  ４ＬＤＫ   70.0  1980.0   ＳＲＣ  202003\n"
     ]
    }
   ],
   "source": [
    "import pandas as pd\n",
    "import seaborn as sns\n",
    "import matplotlib.pyplot as plt\n",
    "\n",
    "# データの読み込み\n",
    "data_path = '/Users/hayakawakazue/Downloads/data/test/test_cleaned3/test_33_cleaned_最寄駅_面積（㎡）.csv'\n",
    "data_cleaned = pd.read_csv(data_path)\n",
    "\n",
    "print(data_cleaned.head())"
   ]
  },
  {
   "cell_type": "markdown",
   "id": "3919b804-52c7-412d-8f44-b0c3c1b6544b",
   "metadata": {},
   "source": [
    "1. 新しい特徴量エンジニアリングを作成する"
   ]
  },
  {
   "cell_type": "code",
   "execution_count": 2,
   "id": "d9feb76a-d20f-4f0d-87e5-576a44f412f4",
   "metadata": {
    "scrolled": true
   },
   "outputs": [
    {
     "name": "stdout",
     "output_type": "stream",
     "text": [
      "count    66.000000\n",
      "mean     15.469697\n",
      "std      11.109552\n",
      "min       1.000000\n",
      "25%       7.000000\n",
      "50%      14.000000\n",
      "75%      19.000000\n",
      "max      45.000000\n",
      "Name: 最寄駅：距離（分）, dtype: float64\n",
      "         ID  市区町村コード  最寄駅：距離（分）   間取り  面積（㎡）     建築年 建物の構造    取引時点  \\\n",
      "8  33001344    33101       20.0  ２ＬＤＫ   55.0  1990.0   ＳＲＣ  202003   \n",
      "1  33000471    33101        1.0  ３ＬＤＫ   75.0  2018.0    ＲＣ  202003   \n",
      "2  33000579    33101       23.0   １ＤＫ   70.0  1998.0   ＳＲＣ  202003   \n",
      "3  33000984    33101       13.0  ３ＬＤＫ   80.0  1995.0    ＲＣ  202003   \n",
      "4  33001008    33101       18.0  ４ＬＤＫ   70.0  1980.0   ＳＲＣ  202003   \n",
      "\n",
      "   取引価格（総額）_log   築年数    面積/築年数比  価格/面積比   取引年  築年数の二乗  面積×築年数  取引月 駅距離_分範囲  \\\n",
      "8             0  34.0   1.617647     0.0  2020  1156.0  1870.0    3       4   \n",
      "1             0   6.0  12.500000     0.0  2020    36.0   450.0    3       1   \n",
      "2             0  26.0   2.692308     0.0  2020   676.0  1820.0    3       5   \n",
      "3             0  29.0   2.758621     0.0  2020   841.0  2320.0    3       3   \n",
      "4             0  44.0   1.590909     0.0  2020  1936.0  3080.0    3       4   \n",
      "\n",
      "   エリア人気度スコア  年別価格トレンド  価格増加率  \n",
      "8        0.0       0.0    0.0  \n",
      "1        0.0       0.0    0.0  \n",
      "2        0.0       0.0    0.0  \n",
      "3        0.0       0.0    0.0  \n",
      "4        0.0       0.0    0.0  \n",
      "データを保存しました: /Users/hayakawakazue/Downloads/data/test/test_cleaned4/test_33_cleaned_feature_engineered.csv\n",
      "\n",
      "データの行数: 66\n",
      "データの列数: 20\n"
     ]
    }
   ],
   "source": [
    "import pandas as pd\n",
    "import numpy as np\n",
    "\n",
    "# データの読み込み\n",
    "data_path = '/Users/hayakawakazue/Downloads/data/test/test_cleaned3/test_33_cleaned_最寄駅_面積（㎡）.csv'\n",
    "test_data_cleaned = pd.read_csv(data_path)\n",
    "\n",
    "# ダミーの取引価格（総額）_log列を追加\n",
    "test_data_cleaned['取引価格（総額）_log'] = 0  # ダミー値として0を使用\n",
    "\n",
    "# 築年数を計算\n",
    "test_data_cleaned['築年数'] = 2024 - test_data_cleaned['建築年']\n",
    "\n",
    "# 面積/築年数比を計算\n",
    "test_data_cleaned['面積/築年数比'] = test_data_cleaned['面積（㎡）'] / test_data_cleaned['築年数']\n",
    "\n",
    "# 価格/面積比を計算\n",
    "test_data_cleaned['価格/面積比'] = test_data_cleaned['取引価格（総額）_log'] / test_data_cleaned['面積（㎡）']\n",
    "\n",
    "# 取引時点から年を抽出\n",
    "test_data_cleaned['取引年'] = test_data_cleaned['取引時点'].astype(str).str[:4].astype(int)\n",
    "\n",
    "# 新しい特徴量の作成\n",
    "test_data_cleaned['築年数の二乗'] = test_data_cleaned['築年数'] ** 2\n",
    "test_data_cleaned['面積×築年数'] = test_data_cleaned['面積（㎡）'] * test_data_cleaned['築年数']\n",
    "\n",
    "# 取引時点を年と月に分割\n",
    "test_data_cleaned['取引年'] = test_data_cleaned['取引時点'].apply(lambda x: int(str(x)[:4]))\n",
    "test_data_cleaned['取引月'] = test_data_cleaned['取引時点'].apply(lambda x: int(str(x)[4:6]))\n",
    "\n",
    "# 駅距離の統計情報を確認\n",
    "print(test_data_cleaned['最寄駅：距離（分）'].describe())\n",
    "\n",
    "# 駅距離を次のように分割して数値に対応付け\n",
    "bins = [0, 5, 10, 15, 20, 25, 30, np.inf]\n",
    "numeric_labels = [1, 2, 3, 4, 5, 6, 7]\n",
    "test_data_cleaned['駅距離_分範囲'] = pd.cut(test_data_cleaned['最寄駅：距離（分）'], bins=bins, labels=numeric_labels)\n",
    "\n",
    "# エリア人気度スコアの計算\n",
    "area_popularity = test_data_cleaned.groupby('市区町村コード')['取引価格（総額）_log'].mean().reset_index()\n",
    "area_popularity.columns = ['市区町村コード', 'エリア人気度スコア']\n",
    "test_data_cleaned = test_data_cleaned.merge(area_popularity, on='市区町村コード', how='left')\n",
    "\n",
    "# 年別価格トレンドの計算\n",
    "yearly_trend = test_data_cleaned.groupby('取引年')['取引価格（総額）_log'].mean().reset_index()\n",
    "yearly_trend.columns = ['取引年', '年別価格トレンド']\n",
    "test_data_cleaned = test_data_cleaned.merge(yearly_trend, on='取引年', how='left')\n",
    "\n",
    "# 価格増加率の計算\n",
    "test_data_cleaned = test_data_cleaned.sort_values(by='取引時点')\n",
    "test_data_cleaned['価格増加率'] = test_data_cleaned['取引価格（総額）_log'].pct_change()\n",
    "test_data_cleaned['価格増加率'].fillna(0, inplace=True)\n",
    "\n",
    "# 新しい特徴量を含むデータの確認\n",
    "print(test_data_cleaned.head())\n",
    "\n",
    "# データを保存\n",
    "test_data_cleaned_path = '/Users/hayakawakazue/Downloads/data/test/test_cleaned4/test_33_cleaned_feature_engineered.csv'\n",
    "test_data_cleaned.to_csv(test_data_cleaned_path, index=False)\n",
    "\n",
    "print(f\"データを保存しました: {test_data_cleaned_path}\")\n",
    "\n",
    "# データの行数と列数をプリントする\n",
    "print(f\"\\nデータの行数: {test_data_cleaned.shape[0]}\")\n",
    "print(f\"データの列数: {test_data_cleaned.shape[1]}\")\n"
   ]
  },
  {
   "cell_type": "code",
   "execution_count": null,
   "id": "660f2d0c-44a8-439d-9ae2-18949d1be4fd",
   "metadata": {},
   "outputs": [],
   "source": []
  }
 ],
 "metadata": {
  "kernelspec": {
   "display_name": "Python 3 (ipykernel)",
   "language": "python",
   "name": "python3"
  },
  "language_info": {
   "codemirror_mode": {
    "name": "ipython",
    "version": 3
   },
   "file_extension": ".py",
   "mimetype": "text/x-python",
   "name": "python",
   "nbconvert_exporter": "python",
   "pygments_lexer": "ipython3",
   "version": "3.11.7"
  }
 },
 "nbformat": 4,
 "nbformat_minor": 5
}
