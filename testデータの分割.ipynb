{
 "cells": [
  {
   "cell_type": "code",
   "execution_count": 2,
   "id": "1112eb35-2ef3-4855-93a4-2e0b155eab49",
   "metadata": {},
   "outputs": [
    {
     "name": "stdout",
     "output_type": "stream",
     "text": [
      "CSVファイルが保存されました。\n"
     ]
    }
   ],
   "source": [
    "import pandas as pd\n",
    "import os\n",
    "\n",
    "# ファイルを読み込む\n",
    "file_path = '/Users/hayakawakazue/Downloads/data/test.csv'  # ここに実際のファイルパスを入力\n",
    "data = pd.read_csv(file_path)\n",
    "\n",
    "# 出力ディレクトリの作成\n",
    "output_dir = '/Users/hayakawakazue/Downloads/data/test'  # ここに実際の出力フォルダのパスを入力\n",
    "os.makedirs(output_dir, exist_ok=True)\n",
    "\n",
    "# 都道府県名と市区町村コードのマッピング\n",
    "prefecture_code_map = {\n",
    "    '北海道': '01',\n",
    "    '青森県': '02',\n",
    "    '岩手県': '03',\n",
    "    '宮城県': '04',\n",
    "    '秋田県': '05',\n",
    "    '山形県': '06',\n",
    "    '福島県': '07',\n",
    "    '茨城県': '08',\n",
    "    '栃木県': '09',\n",
    "    '群馬県': '10',\n",
    "    '埼玉県': '11',\n",
    "    '千葉県': '12',\n",
    "    '東京都': '13',\n",
    "    '神奈川県': '14',\n",
    "    '新潟県': '15',\n",
    "    '富山県': '16',\n",
    "    '石川県': '17',\n",
    "    '福井県': '18',\n",
    "    '山梨県': '19',\n",
    "    '長野県': '20',\n",
    "    '岐阜県': '21',\n",
    "    '静岡県': '22',\n",
    "    '愛知県': '23',\n",
    "    '三重県': '24',\n",
    "    '滋賀県': '25',\n",
    "    '京都府': '26',\n",
    "    '大阪府': '27',\n",
    "    '兵庫県': '28',\n",
    "    '奈良県': '29',\n",
    "    '和歌山県': '30',\n",
    "    '鳥取県': '31',\n",
    "    '島根県': '32',\n",
    "    '岡山県': '33',\n",
    "    '広島県': '34',\n",
    "    '山口県': '35',\n",
    "    '徳島県': '36',\n",
    "    '香川県': '37',\n",
    "    '愛媛県': '38',\n",
    "    '高知県': '39',\n",
    "    '福岡県': '40',\n",
    "    '佐賀県': '41',\n",
    "    '長崎県': '42',\n",
    "    '熊本県': '43',\n",
    "    '大分県': '44',\n",
    "    '宮崎県': '45',\n",
    "    '鹿児島県': '46',\n",
    "    '沖縄県': '47'\n",
    "}\n",
    "\n",
    "# データを都道府県別に分割して保存\n",
    "for prefecture, group in data.groupby('都道府県名'):\n",
    "    code = prefecture_code_map.get(prefecture, '00')  # デフォルトを'00'に設定\n",
    "    filename = f'{code}_test.csv'\n",
    "    group.to_csv(os.path.join(output_dir, filename), index=False)\n",
    "\n",
    "print(\"CSVファイルが保存されました。\")\n"
   ]
  },
  {
   "cell_type": "code",
   "execution_count": null,
   "id": "0a428b3c-faaf-41fa-96f5-6adc100849f8",
   "metadata": {},
   "outputs": [],
   "source": []
  }
 ],
 "metadata": {
  "kernelspec": {
   "display_name": "Python 3 (ipykernel)",
   "language": "python",
   "name": "python3"
  },
  "language_info": {
   "codemirror_mode": {
    "name": "ipython",
    "version": 3
   },
   "file_extension": ".py",
   "mimetype": "text/x-python",
   "name": "python",
   "nbconvert_exporter": "python",
   "pygments_lexer": "ipython3",
   "version": "3.11.7"
  }
 },
 "nbformat": 4,
 "nbformat_minor": 5
}
