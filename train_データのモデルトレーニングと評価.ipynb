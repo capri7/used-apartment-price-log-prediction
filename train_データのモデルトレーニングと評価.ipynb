{
 "cells": [
  {
   "cell_type": "markdown",
   "id": "8b0c6a73-1309-4f8a-94fa-84ca32a6949c",
   "metadata": {},
   "source": [
    "# ランダムフォレストモデルでトレーニングする"
   ]
  },
  {
   "cell_type": "code",
   "execution_count": 1,
   "id": "fd080bfc-802d-48eb-9dd8-51863e4ec859",
   "metadata": {},
   "outputs": [
    {
     "name": "stdout",
     "output_type": "stream",
     "text": [
      "Cross-Validation MAE Scores: [0.02560564 0.02842268 0.02528091 0.02668583 0.0265663 ]\n",
      "Mean MAE: 0.0265\n",
      "Standard Deviation of MAE: 0.0011\n",
      "Mean Absolute Error (MAE): 0.0237\n",
      "Mean Squared Error (MSE): 0.0026\n",
      "R-squared (R2): 0.9633\n",
      "Random Forest モデルが /Users/hayakawakazue/Downloads/data/models/21_24_25_29_30_33_random_forest.joblib に保存されました。\n"
     ]
    }
   ],
   "source": [
    "import pandas as pd\n",
    "from sklearn.model_selection import train_test_split, cross_val_score\n",
    "from sklearn.ensemble import RandomForestRegressor\n",
    "from sklearn.metrics import mean_absolute_error, mean_squared_error, r2_score\n",
    "import os\n",
    "import joblib\n",
    "\n",
    "# データの読み込み\n",
    "data_path = '/Users/hayakawakazue/Downloads/data/train/train_cleaned5/combined_data_21_24_25_29_30_33_cleaned_preprocessed.csv'\n",
    "data = pd.read_csv(data_path)\n",
    "\n",
    "# 重要な特徴量のリスト（使用する特徴量）\n",
    "important_features = ['面積/築年数比', '価格増加率', '価格/面積比', '面積（㎡）', 'エリア人気度スコア', '面積×築年数']\n",
    "\n",
    "# 特徴量と目的変数を分ける\n",
    "X = data[important_features]\n",
    "y = data['取引価格（総額）_log']\n",
    "\n",
    "# 訓練データとテストデータに分割\n",
    "X_train, X_test, y_train, y_test = train_test_split(X, y, test_size=0.2, random_state=59)\n",
    "\n",
    "# ランダムフォレストモデルの作成と訓練\n",
    "# model = RandomForestRegressor(random_state=42, n_estimators=200, max_depth=20, min_samples_split=5, min_samples_leaf=2, max_features='sqrt')\n",
    "model = RandomForestRegressor(random_state=42, n_estimators=100)\n",
    "model.fit(X_train, y_train)\n",
    "\n",
    "# クロスバリデーションでの評価\n",
    "cv_scores = cross_val_score(model, X_train, y_train, cv=5, scoring='neg_mean_absolute_error')\n",
    "cv_mae_scores = -cv_scores\n",
    "\n",
    "# クロスバリデーションの結果を表示\n",
    "print(f\"Cross-Validation MAE Scores: {cv_mae_scores}\")\n",
    "print(f\"Mean MAE: {cv_mae_scores.mean():.4f}\")\n",
    "print(f\"Standard Deviation of MAE: {cv_mae_scores.std():.4f}\")\n",
    "\n",
    "# テストデータを使った予測\n",
    "y_pred = model.predict(X_test)\n",
    "\n",
    "# 評価指標の計算\n",
    "mae = mean_absolute_error(y_test, y_pred)\n",
    "mse = mean_squared_error(y_test, y_pred)\n",
    "r2 = r2_score(y_test, y_pred)\n",
    "\n",
    "# 結果の表示\n",
    "print(f\"Mean Absolute Error (MAE): {mae:.4f}\")\n",
    "print(f\"Mean Squared Error (MSE): {mse:.4f}\")\n",
    "print(f\"R-squared (R2): {r2:.4f}\")\n",
    "\n",
    "# モデルの保存\n",
    "model_path = os.path.join('/Users/hayakawakazue/Downloads/data/models', '21_24_25_29_30_33_random_forest.joblib')\n",
    "joblib.dump(model, model_path)\n",
    "print(f\"Random Forest モデルが {model_path} に保存されました。\")\n"
   ]
  },
  {
   "cell_type": "markdown",
   "id": "2d030399-8a3a-4c08-aa1d-5963ba997412",
   "metadata": {},
   "source": [
    "# 線形回帰モデルでトレーニングする"
   ]
  },
  {
   "cell_type": "code",
   "execution_count": 2,
   "id": "2319e3f1-f235-4033-8625-e316597ea6ef",
   "metadata": {},
   "outputs": [
    {
     "name": "stdout",
     "output_type": "stream",
     "text": [
      "Linear Regression\n",
      "Cross-Validation MAE Scores: [0.1508964  0.14403353 0.14865423 0.15357879 0.14384981]\n",
      "Mean MAE: 0.14820255310072025\n",
      "Standard Deviation of MAE: 0.0038129234375653296\n",
      "Mean Absolute Error (MAE): 0.15040183226065723\n",
      "Mean Squared Error (MSE): 0.03896115993462449\n",
      "R-squared (R2): 0.6797941023911749\n"
     ]
    }
   ],
   "source": [
    "import pandas as pd\n",
    "from sklearn.model_selection import train_test_split\n",
    "from sklearn.metrics import mean_absolute_error, mean_squared_error, r2_score\n",
    "from sklearn.linear_model import LinearRegression\n",
    "from sklearn.model_selection import cross_val_score\n",
    "\n",
    "\n",
    "# データの読み込み\n",
    "data_path = '/Users/hayakawakazue/Downloads/data/train/train_cleaned5/train_08_cleaned_preprocessed.csv'\n",
    "data = pd.read_csv(data_path)\n",
    "\n",
    "# 重要な特徴量のリスト（使用する特徴量）\n",
    "important_features = ['面積/築年数比', '価格増加率', '価格/面積比']\n",
    "\n",
    "# 特徴量と目的変数を分ける\n",
    "X = data[important_features]\n",
    "y = data['取引価格（総額）_log']\n",
    "\n",
    "# 訓練データとテストデータの分割\n",
    "X_train, X_test, y_train, y_test = train_test_split(X, y, test_size=0.2, random_state=42)\n",
    "\n",
    "# モデルのインスタンス化\n",
    "lr_model = LinearRegression()\n",
    "\n",
    "# クロスバリデーションスコアの計算\n",
    "cv_scores = cross_val_score(lr_model, X_train, y_train, scoring='neg_mean_absolute_error', cv=5)\n",
    "cv_mae_scores = -cv_scores\n",
    "mean_cv_mae = cv_mae_scores.mean()\n",
    "std_cv_mae = cv_mae_scores.std()\n",
    "\n",
    "# モデルの訓練\n",
    "lr_model.fit(X_train, y_train)\n",
    "\n",
    "# テストデータに対する予測\n",
    "y_pred = lr_model.predict(X_test)\n",
    "\n",
    "# 評価指標の計算\n",
    "mae = mean_absolute_error(y_test, y_pred)\n",
    "mse = mean_squared_error(y_test, y_pred)\n",
    "r2 = r2_score(y_test, y_pred)\n",
    "\n",
    "print(\"Linear Regression\")\n",
    "print(\"Cross-Validation MAE Scores:\", cv_mae_scores)\n",
    "print(\"Mean MAE:\", mean_cv_mae)\n",
    "print(\"Standard Deviation of MAE:\", std_cv_mae)\n",
    "print(\"Mean Absolute Error (MAE):\", mae)\n",
    "print(\"Mean Squared Error (MSE):\", mse)\n",
    "print(\"R-squared (R2):\", r2)\n",
    "\n"
   ]
  },
  {
   "cell_type": "code",
   "execution_count": null,
   "id": "0f2b6f05-3106-439f-87d7-e82d03480e6d",
   "metadata": {},
   "outputs": [],
   "source": []
  }
 ],
 "metadata": {
  "kernelspec": {
   "display_name": "Python 3 (ipykernel)",
   "language": "python",
   "name": "python3"
  },
  "language_info": {
   "codemirror_mode": {
    "name": "ipython",
    "version": 3
   },
   "file_extension": ".py",
   "mimetype": "text/x-python",
   "name": "python",
   "nbconvert_exporter": "python",
   "pygments_lexer": "ipython3",
   "version": "3.11.7"
  }
 },
 "nbformat": 4,
 "nbformat_minor": 5
}
