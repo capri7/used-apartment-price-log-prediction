{
 "cells": [
  {
   "cell_type": "markdown",
   "id": "277059be-8cf5-4d44-ad0b-7c065c286005",
   "metadata": {},
   "source": [
    "# 複数のデータセットを統合して一つのデータセットにする"
   ]
  },
  {
   "cell_type": "code",
   "execution_count": 1,
   "id": "8e2c53f0-e0ee-4568-93b0-f5579fb0e7eb",
   "metadata": {},
   "outputs": [
    {
     "name": "stdout",
     "output_type": "stream",
     "text": [
      "<class 'pandas.core.frame.DataFrame'>\n",
      "RangeIndex: 14356 entries, 0 to 14355\n",
      "Data columns (total 28 columns):\n",
      " #   Column        Non-Null Count  Dtype  \n",
      "---  ------        --------------  -----  \n",
      " 0   ID            14356 non-null  int64  \n",
      " 1   種類            14356 non-null  object \n",
      " 2   地域            0 non-null      float64\n",
      " 3   市区町村コード       14356 non-null  int64  \n",
      " 4   都道府県名         14356 non-null  object \n",
      " 5   市区町村名         14356 non-null  object \n",
      " 6   地区名           14356 non-null  object \n",
      " 7   最寄駅：名称        14249 non-null  object \n",
      " 8   最寄駅：距離（分）     14054 non-null  object \n",
      " 9   間取り           13792 non-null  object \n",
      " 10  面積（㎡）         14356 non-null  int64  \n",
      " 11  土地の形状         0 non-null      float64\n",
      " 12  間口            0 non-null      float64\n",
      " 13  延床面積（㎡）       0 non-null      float64\n",
      " 14  建築年           13745 non-null  object \n",
      " 15  建物の構造         14103 non-null  object \n",
      " 16  用途            13230 non-null  object \n",
      " 17  今後の利用目的       6437 non-null   object \n",
      " 18  前面道路：方位       0 non-null      float64\n",
      " 19  前面道路：種類       0 non-null      float64\n",
      " 20  前面道路：幅員（ｍ）    0 non-null      float64\n",
      " 21  都市計画          13742 non-null  object \n",
      " 22  建ぺい率（％）       13636 non-null  float64\n",
      " 23  容積率（％）        13636 non-null  float64\n",
      " 24  取引時点          14356 non-null  object \n",
      " 25  改装            13135 non-null  object \n",
      " 26  取引の事情等        514 non-null    object \n",
      " 27  取引価格（総額）_log  14356 non-null  float64\n",
      "dtypes: float64(10), int64(3), object(15)\n",
      "memory usage: 3.1+ MB\n",
      "None\n",
      "         ID        種類  地域  市区町村コード 都道府県名 市区町村名    地区名 最寄駅：名称 最寄駅：距離（分）   間取り  \\\n",
      "0  21059894  中古マンション等 NaN    21213   岐阜県  各務原市  鵜沼山崎町     鵜沼         8  ２ＬＤＫ   \n",
      "1  21033202  中古マンション等 NaN    21201   岐阜県   岐阜市     則武     岐阜   30分?60分  ３ＬＤＫ   \n",
      "2  21030547  中古マンション等 NaN    21201   岐阜県   岐阜市    菊地町     岐阜        15   NaN   \n",
      "3  21000881  中古マンション等 NaN    21201   岐阜県   岐阜市    大菅北    西岐阜        29  ４ＬＤＫ   \n",
      "4  21002287  中古マンション等 NaN    21201   岐阜県   岐阜市     五坪     岐阜        19  ４ＬＤＫ   \n",
      "\n",
      "   ...  前面道路：方位  前面道路：種類  前面道路：幅員（ｍ）     都市計画 建ぺい率（％） 容積率（％）        取引時点   改装  \\\n",
      "0  ...      NaN      NaN         NaN    準住居地域    60.0  200.0  2009年第３四半期  未改装   \n",
      "1  ...      NaN      NaN         NaN  第２種住居地域    60.0  200.0  2011年第３四半期  未改装   \n",
      "2  ...      NaN      NaN         NaN    準工業地域    60.0  200.0  2010年第１四半期  未改装   \n",
      "3  ...      NaN      NaN         NaN  第１種住居地域    60.0  200.0  2018年第１四半期  未改装   \n",
      "4  ...      NaN      NaN         NaN  第１種住居地域    60.0  200.0  2019年第４四半期  改装済   \n",
      "\n",
      "   取引の事情等  取引価格（総額）_log  \n",
      "0     NaN      6.518514  \n",
      "1     NaN      6.913814  \n",
      "2  調停・競売等      7.342423  \n",
      "3     NaN      6.653213  \n",
      "4     NaN      7.113943  \n",
      "\n",
      "[5 rows x 28 columns]\n",
      "統合されたデータを保存しました: /Users/hayakawakazue/Downloads/data/train/combined_data_21_24_25_29_30_33.csv\n"
     ]
    }
   ],
   "source": [
    "import pandas as pd\n",
    "import os\n",
    "\n",
    "# 各CSVファイルのパス\n",
    "data_paths = [\n",
    "    '/Users/hayakawakazue/Downloads/data/train/21.csv',\n",
    "    '/Users/hayakawakazue/Downloads/data/train/24.csv',\n",
    "    '/Users/hayakawakazue/Downloads/data/train/25.csv',\n",
    "    '/Users/hayakawakazue/Downloads/data/train/29.csv',\n",
    "    '/Users/hayakawakazue/Downloads/data/train/30.csv',\n",
    "    '/Users/hayakawakazue/Downloads/data/train/33.csv'\n",
    "]\n",
    "\n",
    "# 各CSVファイルを読み込み、データフレームのリストを作成\n",
    "data_frames = [pd.read_csv(path) for path in data_paths]\n",
    "\n",
    "# データフレームを縦に結合\n",
    "combined_data = pd.concat(data_frames, axis=0, ignore_index=True)\n",
    "\n",
    "# 結合されたデータフレームの情報を表示\n",
    "print(combined_data.info())\n",
    "print(combined_data.head())\n",
    "\n",
    "# 保存先のパス\n",
    "save_path = '/Users/hayakawakazue/Downloads/data/train/combined_data_21_24_25_29_30_33.csv'\n",
    "\n",
    "data_frames = [pd.read_csv(path, dtype={'面積（㎡）': str}) for path in data_paths]\n",
    "\n",
    "# データフレームをCSVファイルとして保存\n",
    "combined_data.to_csv(save_path, index=False)\n",
    "\n",
    "print(f\"統合されたデータを保存しました: {save_path}\")\n"
   ]
  },
  {
   "cell_type": "code",
   "execution_count": null,
   "id": "73ccc52c-f302-4f10-9745-c06537ff794f",
   "metadata": {},
   "outputs": [],
   "source": []
  }
 ],
 "metadata": {
  "kernelspec": {
   "display_name": "Python 3 (ipykernel)",
   "language": "python",
   "name": "python3"
  },
  "language_info": {
   "codemirror_mode": {
    "name": "ipython",
    "version": 3
   },
   "file_extension": ".py",
   "mimetype": "text/x-python",
   "name": "python",
   "nbconvert_exporter": "python",
   "pygments_lexer": "ipython3",
   "version": "3.11.7"
  }
 },
 "nbformat": 4,
 "nbformat_minor": 5
}
