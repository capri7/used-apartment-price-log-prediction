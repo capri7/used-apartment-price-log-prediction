{
 "cells": [
  {
   "cell_type": "markdown",
   "id": "277059be-8cf5-4d44-ad0b-7c065c286005",
   "metadata": {},
   "source": [
    "# 複数のデータセットを統合して一つのデータセットにする"
   ]
  },
  {
   "cell_type": "code",
   "execution_count": 2,
   "id": "8e2c53f0-e0ee-4568-93b0-f5579fb0e7eb",
   "metadata": {},
   "outputs": [
    {
     "name": "stdout",
     "output_type": "stream",
     "text": [
      "<class 'pandas.core.frame.DataFrame'>\n",
      "RangeIndex: 70021 entries, 0 to 70020\n",
      "Data columns (total 28 columns):\n",
      " #   Column        Non-Null Count  Dtype  \n",
      "---  ------        --------------  -----  \n",
      " 0   ID            70021 non-null  int64  \n",
      " 1   種類            70021 non-null  object \n",
      " 2   地域            0 non-null      float64\n",
      " 3   市区町村コード       70021 non-null  int64  \n",
      " 4   都道府県名         70021 non-null  object \n",
      " 5   市区町村名         70021 non-null  object \n",
      " 6   地区名           70000 non-null  object \n",
      " 7   最寄駅：名称        69816 non-null  object \n",
      " 8   最寄駅：距離（分）     68290 non-null  object \n",
      " 9   間取り           67175 non-null  object \n",
      " 10  面積（㎡）         70021 non-null  object \n",
      " 11  土地の形状         0 non-null      float64\n",
      " 12  間口            0 non-null      float64\n",
      " 13  延床面積（㎡）       0 non-null      float64\n",
      " 14  建築年           68129 non-null  object \n",
      " 15  建物の構造         68608 non-null  object \n",
      " 16  用途            64514 non-null  object \n",
      " 17  今後の利用目的       29909 non-null  object \n",
      " 18  前面道路：方位       0 non-null      float64\n",
      " 19  前面道路：種類       0 non-null      float64\n",
      " 20  前面道路：幅員（ｍ）    0 non-null      float64\n",
      " 21  都市計画          68552 non-null  object \n",
      " 22  建ぺい率（％）       68077 non-null  float64\n",
      " 23  容積率（％）        68077 non-null  float64\n",
      " 24  取引時点          70021 non-null  object \n",
      " 25  改装            63738 non-null  object \n",
      " 26  取引の事情等        1974 non-null   object \n",
      " 27  取引価格（総額）_log  70021 non-null  float64\n",
      "dtypes: float64(10), int64(2), object(16)\n",
      "memory usage: 15.0+ MB\n",
      "None\n",
      "         ID        種類  地域  市区町村コード 都道府県名 市区町村名   地区名  最寄駅：名称 最寄駅：距離（分）   間取り  \\\n",
      "0  25004157  中古マンション等 NaN    25201   滋賀県   大津市    螢谷      石山        15  ２ＬＤＫ   \n",
      "1  25029361  中古マンション等 NaN    25213   滋賀県  東近江市   佐野町     能登川         8  ２ＬＤＫ   \n",
      "2  25010144  中古マンション等 NaN    25206   滋賀県   草津市    渋川  草津(滋賀)        10  ３ＬＤＫ   \n",
      "3  25040119  中古マンション等 NaN    25206   滋賀県   草津市    笠山     南草津   30分?60分  ３ＬＤＫ   \n",
      "4  25010276  中古マンション等 NaN    25206   滋賀県   草津市  西大路町  草津(滋賀)         4  ３ＬＤＫ   \n",
      "\n",
      "   ... 前面道路：方位  前面道路：種類  前面道路：幅員（ｍ）     都市計画 建ぺい率（％） 容積率（％）        取引時点   改装  \\\n",
      "0  ...     NaN      NaN         NaN     商業地域    80.0  400.0  2015年第２四半期  未改装   \n",
      "1  ...     NaN      NaN         NaN  第１種住居地域    60.0  200.0  2014年第３四半期  改装済   \n",
      "2  ...     NaN      NaN         NaN  第１種住居地域    60.0  200.0  2016年第４四半期  未改装   \n",
      "3  ...     NaN      NaN         NaN  第１種住居地域    60.0  200.0  2009年第３四半期  未改装   \n",
      "4  ...     NaN      NaN         NaN  第１種住居地域    60.0  200.0  2015年第３四半期  改装済   \n",
      "\n",
      "   取引の事情等  取引価格（総額）_log  \n",
      "0     NaN      6.838849  \n",
      "1     NaN      6.991226  \n",
      "2     NaN      7.414973  \n",
      "3     NaN      7.000000  \n",
      "4     NaN      7.079181  \n",
      "\n",
      "[5 rows x 28 columns]\n",
      "統合されたデータを保存しました: /Users/hayakawakazue/Downloads/data/train/combined_data_25_26_28_29_33_34.csv\n"
     ]
    }
   ],
   "source": [
    "import pandas as pd\n",
    "import os\n",
    "\n",
    "# 各CSVファイルのパス\n",
    "data_paths = [\n",
    "    '/Users/hayakawakazue/Downloads/data/train/25.csv',\n",
    "    '/Users/hayakawakazue/Downloads/data/train/26.csv',\n",
    "    '/Users/hayakawakazue/Downloads/data/train/28.csv',\n",
    "    '/Users/hayakawakazue/Downloads/data/train/29.csv',\n",
    "    '/Users/hayakawakazue/Downloads/data/train/33.csv',\n",
    "    '/Users/hayakawakazue/Downloads/data/train/34.csv'\n",
    "]\n",
    "\n",
    "# 各CSVファイルを読み込み、データフレームのリストを作成\n",
    "data_frames = [pd.read_csv(path, dtype={'面積（㎡）': str}, low_memory=False) for path in data_paths]\n",
    "\n",
    "# データフレームを縦に結合\n",
    "combined_data = pd.concat(data_frames, axis=0, ignore_index=True)\n",
    "\n",
    "# 結合されたデータフレームの情報を表示\n",
    "print(combined_data.info())\n",
    "print(combined_data.head())\n",
    "\n",
    "# 保存先のパス\n",
    "save_path = '/Users/hayakawakazue/Downloads/data/train/combined_data_25_26_28_29_33_34.csv'\n",
    "\n",
    "# データフレームをCSVファイルとして保存\n",
    "combined_data.to_csv(save_path, index=False)\n",
    "\n",
    "print(f\"統合されたデータを保存しました: {save_path}\")\n",
    "\n"
   ]
  }
 ],
 "metadata": {
  "kernelspec": {
   "display_name": "Python 3 (ipykernel)",
   "language": "python",
   "name": "python3"
  },
  "language_info": {
   "codemirror_mode": {
    "name": "ipython",
    "version": 3
   },
   "file_extension": ".py",
   "mimetype": "text/x-python",
   "name": "python",
   "nbconvert_exporter": "python",
   "pygments_lexer": "ipython3",
   "version": "3.11.7"
  }
 },
 "nbformat": 4,
 "nbformat_minor": 5
}
