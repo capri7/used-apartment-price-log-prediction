{
 "cells": [
  {
   "cell_type": "code",
   "execution_count": 1,
   "id": "7361fc86-37d2-46c5-b2fe-6b456b01a4ed",
   "metadata": {},
   "outputs": [
    {
     "name": "stdout",
     "output_type": "stream",
     "text": [
      "   市区町村コード  最寄駅：距離（分）  間取り  面積（㎡）     建築年  建物の構造      取引時点  取引価格（総額）_log  \\\n",
      "0    21201       45.0   18   70.0  1981.0      5  200509.0      7.079181   \n",
      "1    21201       45.0   18   80.0  1997.0      5  200509.0      7.079181   \n",
      "2    21201       45.0   18   70.0  2001.0      3  200509.0      7.380211   \n",
      "3    21201       45.0   14   80.0  1992.0      5  200509.0      7.113943   \n",
      "4    21201       29.0   14   65.0  1993.0      2  200509.0      7.041393   \n",
      "\n",
      "    築年数   面積/築年数比    価格/面積比   取引年  築年数の二乗  面積×築年数  取引月  エリア人気度スコア  年別価格トレンド  \\\n",
      "0  43.0  1.627907  0.101131  2005  1849.0  3010.0    9   7.151617  7.071053   \n",
      "1  27.0  2.962963  0.088490  2005   729.0  2160.0    9   7.151617  7.071053   \n",
      "2  23.0  3.043478  0.105432  2005   529.0  1610.0    9   7.151617  7.071053   \n",
      "3  32.0  2.500000  0.088924  2005  1024.0  2560.0    9   7.151617  7.071053   \n",
      "4  31.0  2.096774  0.108329  2005   961.0  2015.0    9   7.151617  7.071053   \n",
      "\n",
      "      価格増加率  \n",
      "0  0.000000  \n",
      "1  0.000000  \n",
      "2  0.042523  \n",
      "3 -0.036079  \n",
      "4 -0.010198  \n",
      "数値データのみのデータを保存しました: /Users/hayakawakazue/Downloads/data/train/train_cleaned4/combined_data_21_24_25_29_30_33_cleaned_numeric.csv\n"
     ]
    }
   ],
   "source": [
    "from sklearn.preprocessing import LabelEncoder, OneHotEncoder\n",
    "import pandas as pd\n",
    "import numpy as np\n",
    "\n",
    "# データの読み込み\n",
    "data_path = '/Users/hayakawakazue/Downloads/data/train/train_cleaned4/combined_data_21_24_25_29_30_33_cleaned_with_features.csv'\n",
    "data_cleaned = pd.read_csv(data_path)\n",
    "\n",
    "# ラベルエンコーディング\n",
    "label_encoder = LabelEncoder()\n",
    "data_cleaned['間取り'] = label_encoder.fit_transform(data_cleaned['間取り'])\n",
    "data_cleaned['建物の構造'] = label_encoder.fit_transform(data_cleaned['建物の構造'])\n",
    "\n",
    "# ワンホットエンコーディング\n",
    "data_cleaned = pd.get_dummies(data_cleaned, columns=['駅距離_分範囲'], drop_first=True)\n",
    "\n",
    "# 数値データのみを選択\n",
    "numeric_features = data_cleaned.select_dtypes(include=[np.number])\n",
    "\n",
    "# データの確認\n",
    "print(numeric_features.head())\n",
    "\n",
    "# データの保存\n",
    "numeric_features_path = '/Users/hayakawakazue/Downloads/data/train/train_cleaned4/combined_data_21_24_25_29_30_33_cleaned_numeric.csv'\n",
    "numeric_features.to_csv(numeric_features_path, index=False)\n",
    "print(f\"数値データのみのデータを保存しました: {numeric_features_path}\")\n",
    "\n"
   ]
  },
  {
   "cell_type": "code",
   "execution_count": null,
   "id": "cb2c2c95-5466-46ae-a051-9ce1751f7c2f",
   "metadata": {},
   "outputs": [],
   "source": []
  }
 ],
 "metadata": {
  "kernelspec": {
   "display_name": "Python 3 (ipykernel)",
   "language": "python",
   "name": "python3"
  },
  "language_info": {
   "codemirror_mode": {
    "name": "ipython",
    "version": 3
   },
   "file_extension": ".py",
   "mimetype": "text/x-python",
   "name": "python",
   "nbconvert_exporter": "python",
   "pygments_lexer": "ipython3",
   "version": "3.11.7"
  }
 },
 "nbformat": 4,
 "nbformat_minor": 5
}
