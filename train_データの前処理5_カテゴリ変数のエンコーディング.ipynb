{
 "cells": [
  {
   "cell_type": "code",
   "execution_count": 1,
   "id": "7361fc86-37d2-46c5-b2fe-6b456b01a4ed",
   "metadata": {},
   "outputs": [
    {
     "name": "stdout",
     "output_type": "stream",
     "text": [
      "   市区町村コード  最寄駅：距離（分）  面積（㎡）     建築年  建物の構造  建ぺい率（％）  容積率（％）      取引時点  \\\n",
      "0     1108        8.0   80.0  1995.0      8     60.0   200.0  200912.0   \n",
      "1     1101        5.0   30.0  1982.0      8     80.0   300.0  201809.0   \n",
      "2     1101       11.0   65.0  1991.0      8     80.0   300.0  201006.0   \n",
      "3     1108        5.0   90.0  2015.0      4     80.0   400.0  201509.0   \n",
      "4     1108       12.0   80.0  1982.0      4     60.0   200.0  201212.0   \n",
      "\n",
      "   取引価格（総額）_log    価格/面積比  ...   築年数  取引月   面積/築年数比  エリア人気度スコア  年別価格トレンド  \\\n",
      "0      7.079181  0.088490  ...  14.0   12  5.714286   7.095538  7.209604   \n",
      "1      6.755875  0.225196  ...  36.0    9  0.833333   7.111982  7.287327   \n",
      "2      7.204120  0.110833  ...  19.0    6  3.421053   7.111982  7.219128   \n",
      "3      7.591065  0.084345  ...   0.0    9       inf   7.095538  7.240474   \n",
      "4      6.875061  0.085938  ...  30.0   12  2.666667   7.095538  7.197796   \n",
      "\n",
      "      価格増加率   駅距離_面積比  容積率_建ぺい率比   面積×容積率  建築年×建ぺい率  \n",
      "0  0.000000  0.100000   3.333333  16000.0  119700.0  \n",
      "1 -0.045670  0.166667   3.750000   9000.0  158560.0  \n",
      "2  0.066349  0.169231   3.750000  19500.0  159280.0  \n",
      "3  0.053712  0.055556   5.000000  36000.0  161200.0  \n",
      "4 -0.094322  0.150000   3.333333  16000.0  118920.0  \n",
      "\n",
      "[5 rows x 21 columns]\n",
      "数値データのみのデータを保存しました: /Users/hayakawakazue/Downloads/data/train/train_cleaned4/combined_all_train__cleaned_with_encoding.csv\n"
     ]
    }
   ],
   "source": [
    "from sklearn.preprocessing import LabelEncoder, OneHotEncoder\n",
    "import pandas as pd\n",
    "import numpy as np\n",
    "import joblib\n",
    "\n",
    "# データの読み込み\n",
    "data_path = '/Users/hayakawakazue/Downloads/data/train/train_cleaned4/combined_all_train_cleaned_with_features.csv'\n",
    "data_cleaned = pd.read_csv(data_path)\n",
    "\n",
    "# '間取り'列を削除\n",
    "data_cleaned.drop(columns=['間取り'], inplace=True)\n",
    "\n",
    "# 建物の構造のラベルエンコーディングを行い、エンコーダを保存\n",
    "label_encoder = LabelEncoder()\n",
    "data_cleaned['建物の構造'] = label_encoder.fit_transform(data_cleaned['建物の構造'])\n",
    "encoder_path = '/Users/hayakawakazue/Downloads/data/models/building_structure_encoder.joblib'\n",
    "joblib.dump(label_encoder, encoder_path)\n",
    "\n",
    "# ワンホットエンコーディング\n",
    "# data_cleaned = pd.get_dummies(data_cleaned, columns=['駅距離_分範囲'], drop_first=True)\n",
    "\n",
    "# 数値データのみを選択\n",
    "numeric_features = data_cleaned.select_dtypes(include=[np.number])\n",
    "\n",
    "# データの確認\n",
    "print(numeric_features.head())\n",
    "\n",
    "# データの保存\n",
    "numeric_features_path = '/Users/hayakawakazue/Downloads/data/train/train_cleaned4/combined_all_train__cleaned_with_encoding.csv'\n",
    "numeric_features.to_csv(numeric_features_path, index=False)\n",
    "print(f\"数値データのみのデータを保存しました: {numeric_features_path}\")\n",
    "\n"
   ]
  },
  {
   "cell_type": "code",
   "execution_count": null,
   "id": "cb2c2c95-5466-46ae-a051-9ce1751f7c2f",
   "metadata": {},
   "outputs": [],
   "source": []
  }
 ],
 "metadata": {
  "kernelspec": {
   "display_name": "Python 3 (ipykernel)",
   "language": "python",
   "name": "python3"
  },
  "language_info": {
   "codemirror_mode": {
    "name": "ipython",
    "version": 3
   },
   "file_extension": ".py",
   "mimetype": "text/x-python",
   "name": "python",
   "nbconvert_exporter": "python",
   "pygments_lexer": "ipython3",
   "version": "3.11.7"
  }
 },
 "nbformat": 4,
 "nbformat_minor": 5
}
