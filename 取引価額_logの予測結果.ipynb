{
 "cells": [
  {
   "cell_type": "markdown",
   "id": "8ef86ec0-ed54-44ee-bec1-15c627a5b5de",
   "metadata": {},
   "source": [
    "# sample_submission.csvの行数を確認する"
   ]
  },
  {
   "cell_type": "code",
   "execution_count": 4,
   "id": "40370e1f-6136-4e11-adf1-c45a1530bc78",
   "metadata": {},
   "outputs": [
    {
     "name": "stdout",
     "output_type": "stream",
     "text": [
      "        ID  取引価格（総額）_log\n",
      "0  1000000             0\n",
      "1  1000056             0\n",
      "2  1000108             0\n",
      "3  1000109             0\n",
      "4  1000110             0\n",
      "データの行数: 19466\n",
      "データの列数: 2\n"
     ]
    }
   ],
   "source": [
    "import pandas as pd\n",
    "import os\n",
    "\n",
    "# 統合データのパス\n",
    "submission_path = '/Users/hayakawakazue/Downloads/data/submission/sample_submission.csv'\n",
    "\n",
    "data = pd.read_csv(submission_path)\n",
    "\n",
    "# データの確認\n",
    "print(data.head())\n",
    "\n",
    "\n",
    "# データの行数と列数をプリントする\n",
    "print(f\"データの行数: {data.shape[0]}\")\n",
    "print(f\"データの列数: {data.shape[1]}\")\n"
   ]
  },
  {
   "cell_type": "markdown",
   "id": "1afdcdf1-a068-4d24-96d9-be9ed6867c91",
   "metadata": {},
   "source": [
    "# 各都道府県のファイルを統合する"
   ]
  },
  {
   "cell_type": "code",
   "execution_count": 1,
   "id": "c4e554d2-1cb7-422f-9b37-21d13e09625b",
   "metadata": {},
   "outputs": [
    {
     "name": "stdout",
     "output_type": "stream",
     "text": [
      "        ID  取引価格（総額）_log\n",
      "0  1000000      6.087022\n",
      "1  1000056      7.241516\n",
      "2  1000108      6.087022\n",
      "3  1000109      6.126557\n",
      "4  1000110      6.085413\n",
      "データの行数: 19466\n"
     ]
    }
   ],
   "source": [
    "import pandas as pd\n",
    "import os\n",
    "\n",
    "# ディレクトリ内のすべてのCSVファイルをリストします。\n",
    "# CSVファイルが保存されているディレクトリへのパスを指定します。\n",
    "\n",
    "file_paths = [\n",
    "    '/Users/hayakawakazue/Downloads/data/submission/submission_01.csv',\n",
    "    '/Users/hayakawakazue/Downloads/data/submission/submission_02.csv',\n",
    "    '/Users/hayakawakazue/Downloads/data/submission/submission_03.csv',\n",
    "    '/Users/hayakawakazue/Downloads/data/submission/submission_04.csv',\n",
    "    '/Users/hayakawakazue/Downloads/data/submission/submission_05.csv',\n",
    "    '/Users/hayakawakazue/Downloads/data/submission/submission_06.csv',\n",
    "    '/Users/hayakawakazue/Downloads/data/submission/submission_07.csv',\n",
    "    '/Users/hayakawakazue/Downloads/data/submission/submission_08.csv',\n",
    "    '/Users/hayakawakazue/Downloads/data/submission/submission_09.csv',\n",
    "    '/Users/hayakawakazue/Downloads/data/submission/submission_10.csv',\n",
    "    '/Users/hayakawakazue/Downloads/data/submission/submission_11.csv',\n",
    "    '/Users/hayakawakazue/Downloads/data/submission/submission_12.csv',\n",
    "    '/Users/hayakawakazue/Downloads/data/submission/submission_13.csv',\n",
    "    '/Users/hayakawakazue/Downloads/data/submission/submission_14.csv',\n",
    "    '/Users/hayakawakazue/Downloads/data/submission/submission_15.csv',\n",
    "    '/Users/hayakawakazue/Downloads/data/submission/submission_16.csv',\n",
    "    '/Users/hayakawakazue/Downloads/data/submission/submission_17.csv',\n",
    "    '/Users/hayakawakazue/Downloads/data/submission/submission_18.csv',\n",
    "    '/Users/hayakawakazue/Downloads/data/submission/submission_19.csv',\n",
    "    '/Users/hayakawakazue/Downloads/data/submission/submission_20.csv',\n",
    "    '/Users/hayakawakazue/Downloads/data/submission/submission_21.csv',\n",
    "    '/Users/hayakawakazue/Downloads/data/submission/submission_22.csv',\n",
    "    '/Users/hayakawakazue/Downloads/data/submission/submission_23.csv',\n",
    "    '/Users/hayakawakazue/Downloads/data/submission/submission_24.csv',\n",
    "    '/Users/hayakawakazue/Downloads/data/submission/submission_25.csv',\n",
    "    '/Users/hayakawakazue/Downloads/data/submission/submission_26.csv',\n",
    "    '/Users/hayakawakazue/Downloads/data/submission/submission_27.csv',\n",
    "    '/Users/hayakawakazue/Downloads/data/submission/submission_28.csv',\n",
    "    '/Users/hayakawakazue/Downloads/data/submission/submission_29.csv',\n",
    "    '/Users/hayakawakazue/Downloads/data/submission/submission_30.csv',\n",
    "    '/Users/hayakawakazue/Downloads/data/submission/submission_31.csv',\n",
    "    '/Users/hayakawakazue/Downloads/data/submission/submission_32.csv',\n",
    "    '/Users/hayakawakazue/Downloads/data/submission/submission_33.csv',\n",
    "    '/Users/hayakawakazue/Downloads/data/submission/submission_34.csv',\n",
    "    '/Users/hayakawakazue/Downloads/data/submission/submission_35.csv',\n",
    "    '/Users/hayakawakazue/Downloads/data/submission/submission_36.csv',\n",
    "    '/Users/hayakawakazue/Downloads/data/submission/submission_37.csv',\n",
    "    '/Users/hayakawakazue/Downloads/data/submission/submission_38.csv',\n",
    "    '/Users/hayakawakazue/Downloads/data/submission/submission_39.csv',\n",
    "    '/Users/hayakawakazue/Downloads/data/submission/submission_40.csv',\n",
    "    '/Users/hayakawakazue/Downloads/data/submission/submission_41.csv',\n",
    "    '/Users/hayakawakazue/Downloads/data/submission/submission_42.csv',\n",
    "    '/Users/hayakawakazue/Downloads/data/submission/submission_43.csv',\n",
    "    '/Users/hayakawakazue/Downloads/data/submission/submission_44.csv',\n",
    "    '/Users/hayakawakazue/Downloads/data/submission/submission_45.csv',\n",
    "    '/Users/hayakawakazue/Downloads/data/submission/submission_46.csv',\n",
    "    '/Users/hayakawakazue/Downloads/data/submission/submission_47.csv'\n",
    "]\n",
    "\n",
    "all_data = pd.DataFrame()\n",
    "for file_path in file_paths:\n",
    "    df = pd.read_csv(file_path)\n",
    "    # 空白でないログ値の行のみを保持\n",
    "    df = df[df['取引価格（総額）_log'].notna()]\n",
    "    all_data = pd.concat([all_data, df], ignore_index=True)\n",
    "\n",
    "# 統合したデータをCSVファイルとして保存\n",
    "all_data.to_csv('/Users/hayakawakazue/Downloads/data/submission/all_submissions_combined.csv', index=False)\n",
    "\n",
    "# 統合ファイルの内容を確認\n",
    "print(all_data.head())\n",
    "print(f\"データの行数: {all_data.shape[0]}\")\n"
   ]
  }
 ],
 "metadata": {
  "kernelspec": {
   "display_name": "Python 3 (ipykernel)",
   "language": "python",
   "name": "python3"
  },
  "language_info": {
   "codemirror_mode": {
    "name": "ipython",
    "version": 3
   },
   "file_extension": ".py",
   "mimetype": "text/x-python",
   "name": "python",
   "nbconvert_exporter": "python",
   "pygments_lexer": "ipython3",
   "version": "3.11.7"
  }
 },
 "nbformat": 4,
 "nbformat_minor": 5
}
