{
 "cells": [
  {
   "cell_type": "code",
   "execution_count": 1,
   "id": "899fab03-5405-4be4-9f6e-a3859d7a7909",
   "metadata": {},
   "outputs": [
    {
     "name": "stdout",
     "output_type": "stream",
     "text": [
      "         ID  市区町村コード  最寄駅：距離（分）  間取り  面積（㎡）     建築年  建物の構造    取引時点  \\\n",
      "0  33001344    33101       20.0    4   55.0  1990.0      1  202003   \n",
      "1  33000471    33101        1.0    7   75.0  2018.0      0  202003   \n",
      "2  33000579    33101       23.0    1   70.0  1998.0      1  202003   \n",
      "3  33000984    33101       13.0    7   80.0  1995.0      0  202003   \n",
      "4  33001008    33101       18.0    8   70.0  1980.0      1  202003   \n",
      "\n",
      "   取引価格（総額）_log   築年数    面積/築年数比  価格/面積比   取引年  築年数の二乗  面積×築年数  取引月  \\\n",
      "0             0  34.0   1.617647     0.0  2020  1156.0  1870.0    3   \n",
      "1             0   6.0  12.500000     0.0  2020    36.0   450.0    3   \n",
      "2             0  26.0   2.692308     0.0  2020   676.0  1820.0    3   \n",
      "3             0  29.0   2.758621     0.0  2020   841.0  2320.0    3   \n",
      "4             0  44.0   1.590909     0.0  2020  1936.0  3080.0    3   \n",
      "\n",
      "   エリア人気度スコア  年別価格トレンド  価格増加率  \n",
      "0        0.0       0.0    0.0  \n",
      "1        0.0       0.0    0.0  \n",
      "2        0.0       0.0    0.0  \n",
      "3        0.0       0.0    0.0  \n",
      "4        0.0       0.0    0.0  \n",
      "数値データのみのデータを保存しました: /Users/hayakawakazue/Downloads/data/test/test_cleaned4/test_33_cleaned_numeric.csv\n",
      "\n",
      "データの行数: 66\n",
      "データの列数: 19\n"
     ]
    }
   ],
   "source": [
    "from sklearn.preprocessing import LabelEncoder, OneHotEncoder\n",
    "import pandas as pd\n",
    "import numpy as np\n",
    "\n",
    "# データの読み込み\n",
    "data_path = '/Users/hayakawakazue/Downloads/data/test/test_cleaned4/test_33_cleaned_feature_engineered.csv'\n",
    "data_cleaned = pd.read_csv(data_path)\n",
    "\n",
    "# ラベルエンコーディング\n",
    "label_encoder_madori = LabelEncoder()\n",
    "data_cleaned['間取り'] = label_encoder_madori.fit_transform(data_cleaned['間取り'])\n",
    "\n",
    "label_encoder_kenchiku = LabelEncoder()\n",
    "data_cleaned['建物の構造'] = label_encoder_kenchiku.fit_transform(data_cleaned['建物の構造'])\n",
    "\n",
    "# ワンホットエンコーディング\n",
    "data_cleaned = pd.get_dummies(data_cleaned, columns=['駅距離_分範囲'], drop_first=True)\n",
    "\n",
    "# 数値データのみを選択\n",
    "numeric_features = data_cleaned.select_dtypes(include=[np.number])\n",
    "\n",
    "# データの確認\n",
    "print(numeric_features.head())\n",
    "\n",
    "# データの保存\n",
    "numeric_features_path = '/Users/hayakawakazue/Downloads/data/test/test_cleaned4/test_33_cleaned_numeric.csv'\n",
    "numeric_features.to_csv(numeric_features_path, index=False)\n",
    "print(f\"数値データのみのデータを保存しました: {numeric_features_path}\")\n",
    "\n",
    "# データの行数と列数をプリントする\n",
    "print(f\"\\nデータの行数: {numeric_features.shape[0]}\")\n",
    "print(f\"データの列数: {numeric_features.shape[1]}\")\n"
   ]
  },
  {
   "cell_type": "code",
   "execution_count": null,
   "id": "d8715d5c-6aa4-460a-beff-e34488a4c189",
   "metadata": {},
   "outputs": [],
   "source": []
  }
 ],
 "metadata": {
  "kernelspec": {
   "display_name": "Python 3 (ipykernel)",
   "language": "python",
   "name": "python3"
  },
  "language_info": {
   "codemirror_mode": {
    "name": "ipython",
    "version": 3
   },
   "file_extension": ".py",
   "mimetype": "text/x-python",
   "name": "python",
   "nbconvert_exporter": "python",
   "pygments_lexer": "ipython3",
   "version": "3.11.7"
  }
 },
 "nbformat": 4,
 "nbformat_minor": 5
}
