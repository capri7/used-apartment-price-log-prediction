{
 "cells": [
  {
   "cell_type": "code",
   "execution_count": 3,
   "id": "899fab03-5405-4be4-9f6e-a3859d7a7909",
   "metadata": {},
   "outputs": [
    {
     "name": "stdout",
     "output_type": "stream",
     "text": [
      "        ID  市区町村コード  最寄駅：距離（分）  面積（㎡）     建築年  建物の構造  建ぺい率（％）  容積率（％）    取引時点  \\\n",
      "0  1000000     1101       26.0   75.0  1989.0      4     40.0    60.0  202006   \n",
      "1  1000056     1101        1.0   55.0  2016.0      4     80.0   600.0  202003   \n",
      "2  1000108     1101        2.0   15.0  1989.0      8     80.0   400.0  202006   \n",
      "3  1000109     1101        2.0   45.0  1991.0      8     80.0   400.0  202006   \n",
      "4  1000110     1101        3.0   20.0  1981.0      4     80.0   400.0  202006   \n",
      "\n",
      "   取引価格（総額）_log  ...   築年数  取引月    面積/築年数比  エリア人気度スコア  年別価格トレンド  価格増加率  \\\n",
      "0             0  ...  31.0    6   2.419355        0.0       0.0    0.0   \n",
      "1             0  ...   4.0    3  13.750000        0.0       0.0    0.0   \n",
      "2             0  ...  31.0    6   0.483871        0.0       0.0    0.0   \n",
      "3             0  ...  29.0    6   1.551724        0.0       0.0    0.0   \n",
      "4             0  ...  39.0    6   0.512821        0.0       0.0    0.0   \n",
      "\n",
      "    駅距離_面積比  容積率_建ぺい率比   面積×容積率  建築年×建ぺい率  \n",
      "0  0.346667        1.5   4500.0   79560.0  \n",
      "1  0.018182        7.5  33000.0  161280.0  \n",
      "2  0.133333        5.0   6000.0  159120.0  \n",
      "3  0.044444        5.0  18000.0  159280.0  \n",
      "4  0.150000        5.0   8000.0  158480.0  \n",
      "\n",
      "[5 rows x 22 columns]\n",
      "数値データのみのデータを保存しました: /Users/hayakawakazue/Downloads/data/test4/test_cleaned_with_encoding.csv\n",
      "\n",
      "データの行数: 19466\n",
      "データの列数: 22\n"
     ]
    }
   ],
   "source": [
    "from sklearn.preprocessing import LabelEncoder, OneHotEncoder\n",
    "import pandas as pd\n",
    "import numpy as np\n",
    "import joblib\n",
    "\n",
    "# データの読み込み\n",
    "data_path = '/Users/hayakawakazue/Downloads/data/test4/test_cleaned_feature_engineered.csv'\n",
    "test_data_cleaned = pd.read_csv(data_path)\n",
    "\n",
    "# '間取り'列を削除\n",
    "test_data_cleaned.drop(columns=['間取り'], inplace=True)\n",
    "\n",
    "# 保存したラベルエンコーダをロード\n",
    "encoder_path = '/Users/hayakawakazue/Downloads/data/models/building_structure_encoder.joblib'\n",
    "label_encoder = joblib.load(encoder_path)\n",
    "\n",
    "# ラベルエンコーディングを適用\n",
    "test_data_cleaned['建物の構造'] = label_encoder.transform(test_data_cleaned['建物の構造'])\n",
    "\n",
    "# ワンホットエンコーディング\n",
    "# test_data_cleaned = pd.get_dummies(test_data_cleaned, columns=['駅距離_分範囲'], drop_first=True)\n",
    "\n",
    "# 数値データのみを選択\n",
    "numeric_features = test_data_cleaned.select_dtypes(include=[np.number])\n",
    "\n",
    "# データの確認\n",
    "print(numeric_features.head())\n",
    "\n",
    "# データの保存\n",
    "numeric_features_path = '/Users/hayakawakazue/Downloads/data/test4/test_cleaned_with_encoding.csv'\n",
    "numeric_features.to_csv(numeric_features_path, index=False)\n",
    "print(f\"数値データのみのデータを保存しました: {numeric_features_path}\")\n",
    "\n",
    "# データの行数と列数をプリントする\n",
    "print(f\"\\nデータの行数: {numeric_features.shape[0]}\")\n",
    "print(f\"データの列数: {numeric_features.shape[1]}\")\n"
   ]
  },
  {
   "cell_type": "code",
   "execution_count": null,
   "id": "d8715d5c-6aa4-460a-beff-e34488a4c189",
   "metadata": {},
   "outputs": [],
   "source": []
  }
 ],
 "metadata": {
  "kernelspec": {
   "display_name": "Python 3 (ipykernel)",
   "language": "python",
   "name": "python3"
  },
  "language_info": {
   "codemirror_mode": {
    "name": "ipython",
    "version": 3
   },
   "file_extension": ".py",
   "mimetype": "text/x-python",
   "name": "python",
   "nbconvert_exporter": "python",
   "pygments_lexer": "ipython3",
   "version": "3.11.7"
  }
 },
 "nbformat": 4,
 "nbformat_minor": 5
}
