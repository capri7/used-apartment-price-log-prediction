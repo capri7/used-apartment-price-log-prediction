{
 "cells": [
  {
   "cell_type": "code",
   "execution_count": 1,
   "id": "22b6f24a-28bb-4798-9bf8-cdf70c4fcc7a",
   "metadata": {},
   "outputs": [
    {
     "name": "stdout",
     "output_type": "stream",
     "text": [
      "\n",
      "データの行数: 19466\n",
      "データの列数: 9\n",
      "      価格増加率       建築年  エリア人気度スコア    価格/面積比     面積（㎡）   面積/築年数比   市区町村コード  \\\n",
      "0 -0.014136 -0.487670 -47.639632 -1.526759  0.746786 -0.348720 -1.811724   \n",
      "1 -0.014136  1.963661 -47.639632 -1.526759 -0.156522  0.621648 -1.811724   \n",
      "2 -0.014136 -0.487670 -47.639632 -1.526759 -1.963136 -0.514477 -1.811724   \n",
      "3 -0.014136 -0.306090 -47.639632 -1.526759 -0.608175 -0.423025 -1.811724   \n",
      "4 -0.014136 -1.213990 -47.639632 -1.526759 -1.737309 -0.511998 -1.811724   \n",
      "\n",
      "        ID  取引価格（総額）_log_pred  \n",
      "0  1000000           6.466868  \n",
      "1  1000056           7.057948  \n",
      "2  1000108           6.408814  \n",
      "3  1000109           6.423222  \n",
      "4  1000110           6.407881  \n",
      "予測結果を保存しました: /Users/hayakawakazue/Downloads/data/test6/test_data_predicted.csv\n"
     ]
    }
   ],
   "source": [
    "import pandas as pd\n",
    "import joblib\n",
    "\n",
    "# 数値データのみのテストデータを読み込む\n",
    "test_data_path = '/Users/hayakawakazue/Downloads/data/test5/test_data_cleaned_preprocessed.csv'\n",
    "test_data = pd.read_csv(test_data_path)\n",
    "\n",
    "# モデルの読み込み\n",
    "model_path = '/Users/hayakawakazue/Downloads/data/models/combined_all_train_random_forest.joblib'\n",
    "model = joblib.load(model_path)\n",
    "\n",
    "# 重要な特徴量のリスト\n",
    "important_features = ['価格増加率', '建築年', 'エリア人気度スコア', '価格/面積比', '面積（㎡）', '面積/築年数比', '市区町村コード']\n",
    "\n",
    "# テストデータから重要な特徴量を選択\n",
    "X_test = test_data[important_features]\n",
    "\n",
    "# 取引価格のログを予測\n",
    "y_pred_log = model.predict(X_test)\n",
    "\n",
    "# 予測結果をデータフレームに追加\n",
    "test_data['取引価格（総額）_log_pred'] = y_pred_log\n",
    "\n",
    "# 予測結果を保存\n",
    "predicted_test_path = '/Users/hayakawakazue/Downloads/data/test6/test_data_predicted.csv'\n",
    "test_data.to_csv(predicted_test_path, index=False)\n",
    "\n",
    "# データの行数と列数をプリントする\n",
    "print(f\"\\nデータの行数: {test_data.shape[0]}\")\n",
    "print(f\"データの列数: {test_data.shape[1]}\")\n",
    "\n",
    "print(test_data.head())\n",
    "print(f\"予測結果を保存しました: {predicted_test_path}\")\n"
   ]
  },
  {
   "cell_type": "markdown",
   "id": "39b8ec5f-28b2-45de-9330-dba1157c18c5",
   "metadata": {},
   "source": [
    "# sample_submissionの形式とIDを軸にマージする"
   ]
  },
  {
   "cell_type": "code",
   "execution_count": 4,
   "id": "562a62f5-d2f7-40fa-a6e6-f9b7a13adaba",
   "metadata": {},
   "outputs": [
    {
     "name": "stdout",
     "output_type": "stream",
     "text": [
      "        ID  取引価格（総額）_log\n",
      "0  1000000      6.466868\n",
      "1  1000056      7.057948\n",
      "2  1000108      6.408814\n",
      "3  1000109      6.423222\n",
      "4  1000110      6.407881\n",
      "予測結果を保存しました: /Users/hayakawakazue/Downloads/data/submission/submission_test_data_2024_06_26.csv\n"
     ]
    }
   ],
   "source": [
    "import pandas as pd\n",
    "\n",
    "# データの読み込み\n",
    "sample_submission_path = '/Users/hayakawakazue/Downloads/data/submission/sample_submission.csv'\n",
    "sample_submission = pd.read_csv(sample_submission_path)\n",
    "\n",
    "# 予測結果のデータ\n",
    "predicted_data_path = '/Users/hayakawakazue/Downloads/data/test6/test_data_predicted.csv'\n",
    "predicted_data = pd.read_csv(predicted_data_path)\n",
    "\n",
    "# IDを軸にしてマージ\n",
    "submission = pd.merge(sample_submission, predicted_data[['ID', '取引価格（総額）_log_pred']], on='ID', how='left')\n",
    "\n",
    "# 必要な列のみを保持\n",
    "submission = submission[['ID', '取引価格（総額）_log_pred']]\n",
    "submission.columns = ['ID', '取引価格（総額）_log']\n",
    "\n",
    "# ファイルの保存\n",
    "submission_path = '/Users/hayakawakazue/Downloads/data/submission/submission_test_data_2024_06_26.csv'\n",
    "submission.to_csv(submission_path, index=False)\n",
    "\n",
    "# 結果の確認\n",
    "print(submission.head())\n",
    "print(f\"予測結果を保存しました: {submission_path}\")\n"
   ]
  },
  {
   "cell_type": "markdown",
   "id": "2aa36aef-7b0c-4fd0-aace-2ce525e58216",
   "metadata": {},
   "source": [
    "# 削除するIDを指定してフィルタリングする"
   ]
  },
  {
   "cell_type": "code",
   "execution_count": 4,
   "id": "76aa5711-0067-4887-936c-d4a5838c0f60",
   "metadata": {},
   "outputs": [
    {
     "name": "stdout",
     "output_type": "stream",
     "text": [
      "Filtered data saved to /Users/hayakawakazue/Downloads/data/submission/filtered_submission_17_20.csv\n"
     ]
    }
   ],
   "source": [
    "import pandas as pd\n",
    "\n",
    "# CSVファイルの読み込み\n",
    "file_path = '/Users/hayakawakazue/Downloads/data/submission/submission_17_20_21_25.csv'\n",
    "df = pd.read_csv(file_path)\n",
    "\n",
    "# IDが指定している数字で始まる行を除外するフィルタリング\n",
    "filtered_df = df[~df['ID'].astype(str).str.startswith(('21', '25'))]\n",
    "\n",
    "# 必要なカラムのみを選択\n",
    "filtered_df = filtered_df[['ID', '取引価格（総額）_log']]\n",
    "\n",
    "# フィルタリングしたデータを新しいCSVファイルに保存\n",
    "filtered_file_path = '/Users/hayakawakazue/Downloads/data/submission/filtered_submission_17_20.csv'\n",
    "filtered_df.to_csv(filtered_file_path, index=False)\n",
    "\n",
    "print(f'Filtered data saved to {filtered_file_path}')\n"
   ]
  },
  {
   "cell_type": "markdown",
   "id": "4fa97202-ae5f-4960-96bf-0cd6ac51e1e8",
   "metadata": {},
   "source": [
    "# 保有するIDを指定しそれ以外を削除する"
   ]
  },
  {
   "cell_type": "code",
   "execution_count": 3,
   "id": "74669d4b-5292-46c0-9d7f-a71c48085567",
   "metadata": {},
   "outputs": [
    {
     "name": "stdout",
     "output_type": "stream",
     "text": [
      "Filtered data saved to /Users/hayakawakazue/Downloads/data/submission/filtered_submission_43_44_47.csv\n"
     ]
    }
   ],
   "source": [
    "import pandas as pd\n",
    "\n",
    "# CSVファイルの読み込み\n",
    "file_path = '/Users/hayakawakazue/Downloads/data/submission/submission_42_43_44_45_46_47.csv'\n",
    "df = pd.read_csv(file_path)\n",
    "\n",
    "# IDが26, 28, 34で始まる行を保持し、それ以外を除外するフィルタリング\n",
    "filtered_df = df[df['ID'].astype(str).str.startswith(('43', '44', '47'))]\n",
    "\n",
    "# 必要なカラムのみを選択\n",
    "filtered_df = filtered_df[['ID', '取引価格（総額）_log']]\n",
    "\n",
    "# フィルタリングしたデータを新しいCSVファイルに保存\n",
    "filtered_file_path = '/Users/hayakawakazue/Downloads/data/submission/filtered_submission_43_44_47.csv'\n",
    "filtered_df.to_csv(filtered_file_path, index=False)\n",
    "\n",
    "print(f'Filtered data saved to {filtered_file_path}')\n"
   ]
  },
  {
   "cell_type": "code",
   "execution_count": null,
   "id": "95d2c86c-53be-471c-9cc2-ea5d65dd39df",
   "metadata": {},
   "outputs": [],
   "source": []
  }
 ],
 "metadata": {
  "kernelspec": {
   "display_name": "Python 3 (ipykernel)",
   "language": "python",
   "name": "python3"
  },
  "language_info": {
   "codemirror_mode": {
    "name": "ipython",
    "version": 3
   },
   "file_extension": ".py",
   "mimetype": "text/x-python",
   "name": "python",
   "nbconvert_exporter": "python",
   "pygments_lexer": "ipython3",
   "version": "3.11.7"
  }
 },
 "nbformat": 4,
 "nbformat_minor": 5
}
